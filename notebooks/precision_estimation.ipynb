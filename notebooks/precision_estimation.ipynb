{
 "cells": [
  {
   "cell_type": "markdown",
   "id": "a8999ab2-40cd-4d7c-88e5-86be62c7dcd2",
   "metadata": {},
   "source": [
    "# Содержание\n",
    "* [Определение констант, необходимых функций](#id0)\n",
    "* [Сбор и подготовка размеченного файла](#id1)\n",
    "* [Загрузка и подготовка данных](#id2)\n",
    "* [Оценка точности](#id3)"
   ]
  },
  {
   "cell_type": "code",
   "execution_count": 5,
   "id": "b9eb5ec2-5793-499e-8998-8c837034fd26",
   "metadata": {},
   "outputs": [],
   "source": [
    "import pandas as pd\n",
    "import numpy as np\n",
    "from sklearn import metrics\n",
    "from tqdm import tqdm\n",
    "from IPython.display import display\n",
    "from datetime import datetime\n",
    "import gc\n",
    "from typing import Optional, List, Union\n",
    "\n",
    "gc.enable()\n",
    "pd.set_option(\"future.no_silent_downcasting\", True)"
   ]
  },
  {
   "cell_type": "markdown",
   "id": "ce68ada6-a5b9-44cf-9e3c-bcb2c1f0535f",
   "metadata": {},
   "source": [
    "# Определение констант, необходимых функций <a id=\"id0\"></a>"
   ]
  },
  {
   "cell_type": "code",
   "execution_count": 3,
   "id": "06e9336d-905a-44d1-8f42-28344b72f3cc",
   "metadata": {},
   "outputs": [],
   "source": [
    "FILE_PREDICTIONS = \"data/structured_messages-8.xlsx\"\n",
    "FILES_GROUND_TRUTH = (\"data/train_data.xlsx\", \"data/train_data2.xlsx\", \"data/70-109.xlsx\")\n",
    "OUTPUT_FILE = \"1.xlsx\"\n",
    "\n",
    "CURRENT_YEAR = current_year = datetime.now().year\n",
    "DATE_FORMATS = [\n",
    "    \"%d.%m\", \"%d/%m\", \"%d.%m.%Y\", \"%d/%m/%Y\", \"%d.%m.%y\", \"%d/%m/%y\",\n",
    "    \"%Y-%m-%d\"\n",
    "]\n",
    "\n",
    "COLUMNS = [\n",
    "    \"msg_id\", \"Дата\", \"Подразделение\", \"Операция\", \"Культура\",\n",
    "    \"За день, га\", \"С начала операции, га\", \"Вал за день, ц\",\n",
    "    \"Вал с начала, ц\"\n",
    "]\n",
    "TEXT_COLS = [\"Дата\", \"Подразделение\", \"Операция\", \"Культура\"]\n",
    "NUM_COLS = [\"За день, га\", \"С начала операции, га\", \"Вал за день, ц\", \"Вал с начала, ц\"]"
   ]
  },
  {
   "cell_type": "code",
   "execution_count": 3,
   "id": "f1f6c0a9-a097-4788-92ac-fa60d07c9bcf",
   "metadata": {},
   "outputs": [],
   "source": [
    "def load_data(path: str) -> pd.DataFrame:\n",
    "    \"\"\"\n",
    "    Загружает данные из Excel-файла, выполняет предварительную обработку и проверку столбцов.\n",
    "\n",
    "    Функция читает Excel-файл по указанному пути, загружая столбец \"Дата\" как строковый тип.\n",
    "    Если в данных присутствуют столбцы \"text\" или \"message\", они удаляются.\n",
    "    После этого имена столбцов заменяются на значения из глобальной переменной COLUMNS.\n",
    "\n",
    "    :param path: str\n",
    "        Путь к Excel-файлу для загрузки.\n",
    "    :return: pd.DataFrame\n",
    "        Обработанный DataFrame с переименованными столбцами.\n",
    "    \n",
    "    :raises FileNotFoundError:\n",
    "        Если файл по указанному пути не найден.\n",
    "    :raises ValueError:\n",
    "        Если количество столбцов в файле не совпадает с длиной COLUMNS.\n",
    "    \"\"\"\n",
    "    df = pd.read_excel(path, dtype={\"Дата\": str})\n",
    "    if \"text\" in df.columns:\n",
    "        df.drop(\"text\", axis=1, inplace=True)\n",
    "    if \"message\" in df.columns:\n",
    "        df.drop(\"message\", axis=1, inplace=True)\n",
    "    df.columns = COLUMNS\n",
    "    return df"
   ]
  },
  {
   "cell_type": "code",
   "execution_count": 4,
   "id": "7014d018-e23f-4c41-aee1-bc3672d7ae57",
   "metadata": {},
   "outputs": [],
   "source": [
    "def parse_datе(date: str) -> Optional[str]:\n",
    "    \"\"\"\n",
    "    Парсит строку с датой и преобразует её в формат \"дд.мм.гггг\".\n",
    "\n",
    "    Функция принимает строку с датой, обрезает время (если есть), удаляет лишние пробелы и завершающую точку.\n",
    "    Затем пытается распарсить дату по списку форматов из глобальной переменной DATE_FORMATS.\n",
    "    Если формат совпадает с одним из первых двух, год заменяется на текущий (CURRENT_YEAR).\n",
    "    Возвращает строку с датой в формате \"дд.мм.гггг\".\n",
    "\n",
    "    :param date: str\n",
    "        Исходная строка с датой, возможно содержащая время и дополнительные символы.\n",
    "    :return: str или None\n",
    "        Отформатированная дата в виде строки \"дд.мм.гггг\" или None, если парсинг не удался.\n",
    "    \"\"\"\n",
    "    date = date.split(' ')[0]\n",
    "    date = date.strip().rstrip('.')\n",
    "    for i, fmt in enumerate(DATE_FORMATS):\n",
    "        try:\n",
    "            dt = datetime.strptime(date, fmt)\n",
    "            if i < 2:\n",
    "                dt = dt.replace(year=CURRENT_YEAR)\n",
    "            dt = dt.strftime(\"%d.%m.%Y\")\n",
    "            return dt\n",
    "        except Exception as e:\n",
    "            pass"
   ]
  },
  {
   "cell_type": "code",
   "execution_count": 5,
   "id": "acbc9e6d-8f05-4835-a24f-2e3382979552",
   "metadata": {},
   "outputs": [],
   "source": [
    "def calc_acc(\n",
    "    y_true: List[Union[str, int, float]],\n",
    "    y_pred: y_true: List[Union[str, int, float]]\n",
    ") -> float:\n",
    "    \"\"\"\n",
    "    Вычисляет точность (accuracy) между истинными и предсказанными значениями с учетом частичного совпадения строк.\n",
    "\n",
    "    Функция принимает два списка или последовательности одинаковой длины: истинные значения (`y_true`) и предсказанные (`y_pred`).\n",
    "    Точность считается как доля совпадений по элементам:\n",
    "    - Полное совпадение значений увеличивает счетчик точных совпадений.\n",
    "    - Если оба значения — строки, и истинное значение начинается с предсказанного, это также считается совпадением.\n",
    "\n",
    "    :param y_true: list\n",
    "        Список истинных значений.\n",
    "    :param y_pred: list\n",
    "        Список предсказанных значений.\n",
    "    :return: float\n",
    "        Отношение количества совпадений к общему числу элементов, значение в диапазоне [0, 1].\n",
    "\n",
    "    :raises AssertionError:\n",
    "        Если длины `y_true` и `y_pred` не совпадают.\n",
    "    \"\"\"\n",
    "    \n",
    "    assert len(y_true) == len(y_pred), f\"true={len(y_true)}, pred={len(y_pred)}\"\n",
    "\n",
    "    acc = 0.0\n",
    "    for val in zip(y_true, y_pred):\n",
    "        true_value, pred_value = val[0], val[1]\n",
    "        if true_value == pred_value:\n",
    "            acc += 1\n",
    "        else:\n",
    "            if isinstance(true_value, str) and isinstance(pred_value, str):\n",
    "                if true_value.startswith(pred_value):\n",
    "                    acc += 1\n",
    "    return acc / len(y_true)"
   ]
  },
  {
   "cell_type": "markdown",
   "id": "f68322fc-967e-4658-b8e4-e2f33fa195ff",
   "metadata": {},
   "source": [
    "# Сбор и подготовка размеченного файла <a id=\"id1\"></a>"
   ]
  },
  {
   "cell_type": "markdown",
   "id": "d102d41a-34bf-4259-8a98-2d940b85992e",
   "metadata": {},
   "source": [
    "Здесь происходит объединение таблиц и синхронизация id сообщений, т.к. разметка производилась каждым членом команды"
   ]
  },
  {
   "cell_type": "code",
   "execution_count": 6,
   "id": "4dc1d3e6-f50f-4a17-9f3b-5ee25db79319",
   "metadata": {},
   "outputs": [],
   "source": [
    "# dfs = list(map(load_data, FILES_GROUND_TRUTH))\n",
    "# dfs[-1][\"msg_id\"] += 69\n",
    "# pd.concat(dfs, axis=0).to_excel(OUTPUT_FILE, index=False)"
   ]
  },
  {
   "cell_type": "markdown",
   "id": "0725fad5-38cf-4678-8870-037e4db6cb70",
   "metadata": {},
   "source": [
    "Ячейка запускается один раз, потом комментируется.  \n",
    "Её основная цель - это создать единый размеченный файл"
   ]
  },
  {
   "cell_type": "markdown",
   "id": "9a39985f-a7ed-421a-804f-7c907aecd6ea",
   "metadata": {},
   "source": [
    "# Загрузка и подготовка данных <a id=\"id2\"></a>"
   ]
  },
  {
   "cell_type": "markdown",
   "id": "146ed8ca-6a96-43a6-a89c-7864c3070613",
   "metadata": {},
   "source": [
    "Определим какие операции не оцениваются в рамках хакатона, а также небольшое отображение"
   ]
  },
  {
   "cell_type": "code",
   "execution_count": 56,
   "id": "1ab6ba10-d4c8-49fa-a3f3-96bd0091fadc",
   "metadata": {},
   "outputs": [],
   "source": [
    "DROP_OP = [\n",
    "    \"боронование довсходовое\",\n",
    "    \"выкашивание отцовских форм подсолнечник\",\n",
    "    \"тестовая операция\",\n",
    "    \"средства защиты растений\",\n",
    "    \"затравка мышевидных грызунов\"\n",
    "]\n",
    "\n",
    "MAP = {\n",
    "    \"внесение противозлакового гербицида\": \"гербицидная обработка\",\n",
    "    \"посев\": \"сев\",\n",
    "    \"вспашка\": \"пахота\",\n",
    "    \"сплошная культивация\": \"культивация\",\n",
    "    \"выравнивание\": \"выравнивание зяби\",\n",
    "    \"химическая прополка\": \"гербицидная обработка\"\n",
    "}"
   ]
  },
  {
   "cell_type": "markdown",
   "id": "1621c1ac-98e3-45a1-a6ba-bb0556172997",
   "metadata": {},
   "source": [
    "Загрузим данные"
   ]
  },
  {
   "cell_type": "code",
   "execution_count": 7,
   "id": "c1e04d34-c65c-4e01-b8e2-06c104c733f1",
   "metadata": {},
   "outputs": [],
   "source": [
    "train = pd.read_excel(OUTPUT_FILE)\n",
    "pred = pd.read_excel(FILE_PREDICTIONS)\n",
    "\n",
    "assert train.shape[1] == pred.shape[1]\n",
    "\n",
    "pred.columns = COLUMNS"
   ]
  },
  {
   "cell_type": "markdown",
   "id": "da167912-eeda-4ed4-8d31-23b6a331aa13",
   "metadata": {},
   "source": [
    "Проверим соглассованность id сообщений размеченных и предсказанных данных  "
   ]
  },
  {
   "cell_type": "code",
   "execution_count": 58,
   "id": "1972084f-0152-4b55-8911-0a2f07864186",
   "metadata": {},
   "outputs": [
    {
     "data": {
      "text/plain": [
       "(105, 105)"
      ]
     },
     "execution_count": 58,
     "metadata": {},
     "output_type": "execute_result"
    }
   ],
   "source": [
    "train.msg_id.max(), pred.msg_id.max()"
   ]
  },
  {
   "cell_type": "markdown",
   "id": "a35e958a-24a5-479b-868f-0ca998f27c30",
   "metadata": {},
   "source": [
    "Посмотрим так на размерности данных"
   ]
  },
  {
   "cell_type": "code",
   "execution_count": 59,
   "id": "90aba6f9-a614-4e8a-90c8-926d3e721204",
   "metadata": {},
   "outputs": [
    {
     "data": {
      "text/plain": [
       "((355, 9), (382, 9))"
      ]
     },
     "execution_count": 59,
     "metadata": {},
     "output_type": "execute_result"
    }
   ],
   "source": [
    "train.shape, pred.shape"
   ]
  },
  {
   "cell_type": "markdown",
   "id": "b3e9e1be-e309-47eb-90d7-ee9cc4367575",
   "metadata": {},
   "source": [
    "Кол-во строк не совпадает. Это означает, что где-то алгоритм экстракции информации нашёл или больше, или меньше релевантной информации, а также сюда попали строки с операциями, которые не оцениваются в рамках хакатона, которые, поэтому, надо удалить"
   ]
  },
  {
   "cell_type": "markdown",
   "id": "52ba80d1-6986-446d-8900-f55f448febc5",
   "metadata": {},
   "source": [
    "Получим уникальные id сообщений"
   ]
  },
  {
   "cell_type": "code",
   "execution_count": 9,
   "id": "8906abc2-4066-450e-be43-cdf2e95ee2c9",
   "metadata": {},
   "outputs": [],
   "source": [
    "MSG_IDS = pred[\"msg_id\"].unique()"
   ]
  },
  {
   "cell_type": "markdown",
   "id": "bb98675d-cf2f-4be6-80b4-02d2f5d162a2",
   "metadata": {},
   "source": [
    "Выполним нормализацию строк из текстовых столбцов"
   ]
  },
  {
   "cell_type": "code",
   "execution_count": 61,
   "id": "601b0200-8205-47f8-a4d4-032bf63dde15",
   "metadata": {},
   "outputs": [],
   "source": [
    "for txt_col in TEXT_COLS:\n",
    "    train[txt_col] = train[txt_col].str.lower()\n",
    "    train[txt_col] = train[txt_col].str.replace('ё', 'е')\n",
    "    \n",
    "    pred[txt_col] = pred[txt_col].str.lower()\n",
    "    pred[txt_col] = pred[txt_col].str.replace('ё', 'е')"
   ]
  },
  {
   "cell_type": "markdown",
   "id": "1033b108-b028-4b30-9c82-cb1e32dd5356",
   "metadata": {},
   "source": [
    "Провалидирум целовые столбцы на соответствие их числовым типам данных"
   ]
  },
  {
   "cell_type": "code",
   "execution_count": 62,
   "id": "55fb3fba-96c2-42a1-ba0e-f0bc88d2188c",
   "metadata": {},
   "outputs": [],
   "source": [
    "for num_col in NUM_COLS:\n",
    "    dtype = train[num_col].dtype.name\n",
    "    if (\"int\" in dtype) or (\"float\" in dtype):\n",
    "        continue"
   ]
  },
  {
   "cell_type": "code",
   "execution_count": 63,
   "id": "b7504aa5-0673-4155-803f-ecdcba385084",
   "metadata": {},
   "outputs": [],
   "source": [
    "for num_col in NUM_COLS:\n",
    "    dtype = pred[num_col].dtype.name\n",
    "    if (\"int\" in dtype) or (\"float\" in dtype):\n",
    "        continue\n",
    "    pred[num_col] = pd.to_numeric(pred[num_col], errors=\"coerce\")"
   ]
  },
  {
   "cell_type": "markdown",
   "id": "d970d33f-7dca-419a-b544-ab6b25d0f492",
   "metadata": {},
   "source": [
    "Распарсим дату и приведём к единому формату"
   ]
  },
  {
   "cell_type": "code",
   "execution_count": 64,
   "id": "0542cf05-c7d4-4cab-949c-ce48b9eae2b7",
   "metadata": {},
   "outputs": [],
   "source": [
    "for i, val in enumerate(train[\"Дата\"]):\n",
    "    if not pd.isna(val):\n",
    "        train.loc[i, \"Дата\"] = parse_datе(str(val))"
   ]
  },
  {
   "cell_type": "code",
   "execution_count": 65,
   "id": "f432e8cf-5de4-4ae1-9945-2b3dbd72b312",
   "metadata": {},
   "outputs": [],
   "source": [
    "for i, val in enumerate(pred[\"Дата\"]):\n",
    "    if not pd.isna(val):\n",
    "        pred.loc[i, \"Дата\"] = parse_datе(str(val))"
   ]
  },
  {
   "cell_type": "markdown",
   "id": "58cec020-5e12-4ff8-ba03-5c1231b74be3",
   "metadata": {},
   "source": [
    "Посмотрим разницу операций между двумя файлами - с предсказаниями и с размеченными данными"
   ]
  },
  {
   "cell_type": "code",
   "execution_count": 66,
   "id": "8b771109-20b5-474f-b904-98ac32a79dd9",
   "metadata": {},
   "outputs": [
    {
     "data": {
      "text/plain": [
       "{'боронование довсходовое',\n",
       " 'вспашка',\n",
       " 'выкашивание отцовских форм подсолнечник',\n",
       " 'выравнивание',\n",
       " 'выравнивание многолетних трав',\n",
       " 'затравка мышевидных грызунов',\n",
       " 'прикатывание',\n",
       " 'сплошная культивация',\n",
       " 'средства защиты растений',\n",
       " 'химическая прополка'}"
      ]
     },
     "execution_count": 66,
     "metadata": {},
     "output_type": "execute_result"
    }
   ],
   "source": [
    "set(pred[\"Операция\"].dropna().unique()).difference(set(train[\"Операция\"].unique()))"
   ]
  },
  {
   "cell_type": "markdown",
   "id": "f7436d22-3ea8-43a5-8a94-5276c093260e",
   "metadata": {},
   "source": [
    "Удалим те операции, которые не оцениваются в рамках хакатона"
   ]
  },
  {
   "cell_type": "code",
   "execution_count": 67,
   "id": "290d9c39-08d1-452f-8c14-d020c0786561",
   "metadata": {},
   "outputs": [],
   "source": [
    "pred.drop(pred[pred[\"Операция\"].isin(DROP_OP)].index, axis=0, inplace=True)\n",
    "pred.reset_index(drop=True, inplace=True)"
   ]
  },
  {
   "cell_type": "markdown",
   "id": "cd8f0c83-a278-42de-822c-d44be192bb5f",
   "metadata": {},
   "source": [
    "Выполним приведение в соответствие оставшихся операций, используя отображение, определённое в самом начале раздела"
   ]
  },
  {
   "cell_type": "code",
   "execution_count": 68,
   "id": "9460c6f5-cdc9-4178-92a5-8b589b612100",
   "metadata": {},
   "outputs": [],
   "source": [
    "pred[\"Операция\"] = pred[\"Операция\"].apply(lambda x: MAP.get(x, x))"
   ]
  },
  {
   "cell_type": "markdown",
   "id": "0ec2c726-2682-400b-b511-12e1f6e27300",
   "metadata": {},
   "source": [
    "Выполним проверку на наличие пропусков по операции. Если такие строки имеются, то их удалим"
   ]
  },
  {
   "cell_type": "code",
   "execution_count": 69,
   "id": "2c84f707-d2ca-4af4-8607-6137057a54e4",
   "metadata": {},
   "outputs": [
    {
     "data": {
      "text/html": [
       "<div>\n",
       "<style scoped>\n",
       "    .dataframe tbody tr th:only-of-type {\n",
       "        vertical-align: middle;\n",
       "    }\n",
       "\n",
       "    .dataframe tbody tr th {\n",
       "        vertical-align: top;\n",
       "    }\n",
       "\n",
       "    .dataframe thead th {\n",
       "        text-align: right;\n",
       "    }\n",
       "</style>\n",
       "<table border=\"1\" class=\"dataframe\">\n",
       "  <thead>\n",
       "    <tr style=\"text-align: right;\">\n",
       "      <th></th>\n",
       "      <th>msg_id</th>\n",
       "      <th>Дата</th>\n",
       "      <th>Подразделение</th>\n",
       "      <th>Операция</th>\n",
       "      <th>Культура</th>\n",
       "      <th>За день, га</th>\n",
       "      <th>С начала операции, га</th>\n",
       "      <th>Вал за день, ц</th>\n",
       "      <th>Вал с начала, ц</th>\n",
       "    </tr>\n",
       "  </thead>\n",
       "  <tbody>\n",
       "    <tr>\n",
       "      <th>320</th>\n",
       "      <td>93</td>\n",
       "      <td>NaN</td>\n",
       "      <td>NaN</td>\n",
       "      <td>NaN</td>\n",
       "      <td>NaN</td>\n",
       "      <td>NaN</td>\n",
       "      <td>NaN</td>\n",
       "      <td>NaN</td>\n",
       "      <td>NaN</td>\n",
       "    </tr>\n",
       "  </tbody>\n",
       "</table>\n",
       "</div>"
      ],
      "text/plain": [
       "     msg_id Дата Подразделение Операция Культура  За день, га  \\\n",
       "320      93  NaN           NaN      NaN      NaN          NaN   \n",
       "\n",
       "     С начала операции, га  Вал за день, ц  Вал с начала, ц  \n",
       "320                    NaN             NaN              NaN  "
      ]
     },
     "metadata": {},
     "output_type": "display_data"
    }
   ],
   "source": [
    "nan_operation = pred[\"Операция\"].isna().sum()\n",
    "if nan_operation != 0:\n",
    "    display(pred[pred[\"Операция\"].isna()])\n",
    "    pred.drop(pred[pred[\"Операция\"].isna()].index, axis=0, inplace=True)\n",
    "    pred.reset_index(drop=True, inplace=True)"
   ]
  },
  {
   "cell_type": "markdown",
   "id": "db05ab37-13df-403a-b803-f76fc131fd7a",
   "metadata": {},
   "source": [
    "Выполним замену кода подразделения, а также культуры"
   ]
  },
  {
   "cell_type": "code",
   "execution_count": 70,
   "id": "8b645651-35d2-49fa-8810-cb2e8560bf07",
   "metadata": {},
   "outputs": [],
   "source": [
    "pred[\"Подразделение\"] = pred[\"Подразделение\"].apply(lambda x: \"аор\" if x.startswith(\"отд\") else x)"
   ]
  },
  {
   "cell_type": "code",
   "execution_count": 71,
   "id": "f1f5a5e6-3338-43a8-b60a-4491391810c9",
   "metadata": {},
   "outputs": [],
   "source": [
    "pred[\"Культура\"] = pred[\"Культура\"].apply(lambda x: \"озимые культуры\" if x == \"озимые\" else x)"
   ]
  },
  {
   "cell_type": "markdown",
   "id": "804b1fb8-f885-49fe-8661-10075001c6c5",
   "metadata": {},
   "source": [
    "Выполним проверку на наличие пропусков по культуре. Операции с пустой культурой удалим, т.к. эти операции не несут в себе полезной информации"
   ]
  },
  {
   "cell_type": "code",
   "execution_count": 72,
   "id": "99283e20-12ec-4309-b737-c47564ee8ff4",
   "metadata": {},
   "outputs": [
    {
     "data": {
      "text/html": [
       "<div>\n",
       "<style scoped>\n",
       "    .dataframe tbody tr th:only-of-type {\n",
       "        vertical-align: middle;\n",
       "    }\n",
       "\n",
       "    .dataframe tbody tr th {\n",
       "        vertical-align: top;\n",
       "    }\n",
       "\n",
       "    .dataframe thead th {\n",
       "        text-align: right;\n",
       "    }\n",
       "</style>\n",
       "<table border=\"1\" class=\"dataframe\">\n",
       "  <thead>\n",
       "    <tr style=\"text-align: right;\">\n",
       "      <th></th>\n",
       "      <th>msg_id</th>\n",
       "      <th>Дата</th>\n",
       "      <th>Подразделение</th>\n",
       "      <th>Операция</th>\n",
       "      <th>Культура</th>\n",
       "      <th>За день, га</th>\n",
       "      <th>С начала операции, га</th>\n",
       "      <th>Вал за день, ц</th>\n",
       "      <th>Вал с начала, ц</th>\n",
       "    </tr>\n",
       "  </thead>\n",
       "  <tbody>\n",
       "    <tr>\n",
       "      <th>214</th>\n",
       "      <td>60</td>\n",
       "      <td>NaN</td>\n",
       "      <td>аор</td>\n",
       "      <td>предпосевная культивация</td>\n",
       "      <td>NaN</td>\n",
       "      <td>177.0</td>\n",
       "      <td>396.0</td>\n",
       "      <td>NaN</td>\n",
       "      <td>NaN</td>\n",
       "    </tr>\n",
       "    <tr>\n",
       "      <th>298</th>\n",
       "      <td>87</td>\n",
       "      <td>NaN</td>\n",
       "      <td>аор</td>\n",
       "      <td>предпосевная культивация</td>\n",
       "      <td>NaN</td>\n",
       "      <td>NaN</td>\n",
       "      <td>NaN</td>\n",
       "      <td>NaN</td>\n",
       "      <td>NaN</td>\n",
       "    </tr>\n",
       "    <tr>\n",
       "      <th>299</th>\n",
       "      <td>87</td>\n",
       "      <td>NaN</td>\n",
       "      <td>аор</td>\n",
       "      <td>выравнивание зяби</td>\n",
       "      <td>NaN</td>\n",
       "      <td>180.0</td>\n",
       "      <td>1430.0</td>\n",
       "      <td>NaN</td>\n",
       "      <td>NaN</td>\n",
       "    </tr>\n",
       "    <tr>\n",
       "      <th>301</th>\n",
       "      <td>88</td>\n",
       "      <td>NaN</td>\n",
       "      <td>аор</td>\n",
       "      <td>подкормка</td>\n",
       "      <td>NaN</td>\n",
       "      <td>218.0</td>\n",
       "      <td>NaN</td>\n",
       "      <td>NaN</td>\n",
       "      <td>NaN</td>\n",
       "    </tr>\n",
       "    <tr>\n",
       "      <th>302</th>\n",
       "      <td>88</td>\n",
       "      <td>NaN</td>\n",
       "      <td>аор</td>\n",
       "      <td>культивация</td>\n",
       "      <td>NaN</td>\n",
       "      <td>196.0</td>\n",
       "      <td>1626.0</td>\n",
       "      <td>NaN</td>\n",
       "      <td>NaN</td>\n",
       "    </tr>\n",
       "  </tbody>\n",
       "</table>\n",
       "</div>"
      ],
      "text/plain": [
       "     msg_id Дата Подразделение                  Операция Культура  \\\n",
       "214      60  NaN           аор  предпосевная культивация      NaN   \n",
       "298      87  NaN           аор  предпосевная культивация      NaN   \n",
       "299      87  NaN           аор         выравнивание зяби      NaN   \n",
       "301      88  NaN           аор                 подкормка      NaN   \n",
       "302      88  NaN           аор               культивация      NaN   \n",
       "\n",
       "     За день, га  С начала операции, га  Вал за день, ц  Вал с начала, ц  \n",
       "214        177.0                  396.0             NaN              NaN  \n",
       "298          NaN                    NaN             NaN              NaN  \n",
       "299        180.0                 1430.0             NaN              NaN  \n",
       "301        218.0                    NaN             NaN              NaN  \n",
       "302        196.0                 1626.0             NaN              NaN  "
      ]
     },
     "metadata": {},
     "output_type": "display_data"
    }
   ],
   "source": [
    "nan_cultutre = pred[\"Культура\"].isna().sum()\n",
    "if nan_cultutre != 0:\n",
    "    display(pred[pred[\"Культура\"].isna()])\n",
    "    pred.drop(pred[pred[\"Культура\"].isna()].index, axis=0, inplace=True)\n",
    "    pred.reset_index(drop=True, inplace=True)"
   ]
  },
  {
   "cell_type": "markdown",
   "id": "2db57599-e698-4ae8-9ea5-14172d1d9755",
   "metadata": {},
   "source": [
    "Оценим теперь размерности данных"
   ]
  },
  {
   "cell_type": "code",
   "execution_count": 74,
   "id": "ee9638b7-c473-41e9-b890-12d5ff454766",
   "metadata": {},
   "outputs": [
    {
     "data": {
      "text/plain": [
       "((355, 9), (361, 9))"
      ]
     },
     "execution_count": 74,
     "metadata": {},
     "output_type": "execute_result"
    }
   ],
   "source": [
    "train.shape, pred.shape"
   ]
  },
  {
   "cell_type": "markdown",
   "id": "0649da0a-b57a-4a5c-9c77-3d95239a2a45",
   "metadata": {},
   "source": [
    "Выполнив очистку от \"шумовых\" данных, размерности данных почти удалось свести"
   ]
  },
  {
   "cell_type": "markdown",
   "id": "d9b0583a-6b68-4366-9716-4af97dab850f",
   "metadata": {},
   "source": [
    "Для удобства оценки точности работы алгоритма экстракции информации заполним все пропуски значением \"-1\""
   ]
  },
  {
   "cell_type": "code",
   "execution_count": 75,
   "id": "47c50391-9821-4845-855e-35bb8dbfeece",
   "metadata": {},
   "outputs": [],
   "source": [
    "train = train.fillna(-1)\n",
    "pred = pred.fillna(-1)"
   ]
  },
  {
   "cell_type": "markdown",
   "id": "9d997f58-4765-42ed-b72a-4325ba1bec0c",
   "metadata": {},
   "source": [
    "Проверим, что пропусков больше не осталось"
   ]
  },
  {
   "cell_type": "code",
   "execution_count": 76,
   "id": "572037be-9c2a-4035-9a57-d90436356457",
   "metadata": {},
   "outputs": [
    {
     "data": {
      "text/plain": [
       "(0, 0)"
      ]
     },
     "execution_count": 76,
     "metadata": {},
     "output_type": "execute_result"
    }
   ],
   "source": [
    "train.isna().sum().sum(), pred.isna().sum().sum()"
   ]
  },
  {
   "cell_type": "markdown",
   "id": "dd33143e-ee66-4614-97ac-d0d7e126a837",
   "metadata": {},
   "source": [
    "В заключении оценим, имеется ли разница по операциям"
   ]
  },
  {
   "cell_type": "code",
   "execution_count": 77,
   "id": "ed614d7b-7848-4400-821d-b64a065d5f4d",
   "metadata": {},
   "outputs": [
    {
     "data": {
      "text/plain": [
       "{'выравнивание многолетних трав', 'прикатывание'}"
      ]
     },
     "execution_count": 77,
     "metadata": {},
     "output_type": "execute_result"
    }
   ],
   "source": [
    "set(pred[\"Операция\"].dropna().str.lower().unique()).difference(\n",
    "    set(train[\"Операция\"].unique())\n",
    ")"
   ]
  },
  {
   "cell_type": "markdown",
   "id": "5a9fc234-6550-4a95-a388-5e3dc6f638ce",
   "metadata": {},
   "source": [
    "Разница осталась. По первому элементу - данная операция не входила в список рассматриваемых во время хакатона. По второй операции - из-за наличия операциия \"прикатывание посевов\" можно оставить, т.к. префиксы совпадют; семантика операций отличаться не будет  \n",
    "\n",
    "Решено было оставить эти операции"
   ]
  },
  {
   "cell_type": "markdown",
   "id": "1aa9e0d8-0754-4aa0-9bcd-bc67c757b490",
   "metadata": {},
   "source": [
    "# Оценка точности <a id=\"id3\"></a>"
   ]
  },
  {
   "cell_type": "markdown",
   "id": "82fedd44-eb30-45e3-a32b-ae73b107923c",
   "metadata": {},
   "source": [
    "Выполним оценку точности работы алгоритма экстракции информации"
   ]
  },
  {
   "cell_type": "code",
   "execution_count": 83,
   "id": "94321ee9-7832-4b4b-bb4e-89788575cef8",
   "metadata": {},
   "outputs": [
    {
     "name": "stdout",
     "output_type": "stream",
     "text": [
      "19 4 5\n",
      "29 6 5\n",
      "32 7 8\n",
      "37 10 9\n",
      "45 4 6\n",
      "60 3 2\n",
      "72 4 2\n",
      "78 4 3\n",
      "81 8 7\n",
      "82 8 6\n",
      "83 5 3\n",
      "88 2 1\n",
      "93 1 0\n",
      "99 5 4\n"
     ]
    },
    {
     "data": {
      "text/plain": [
       "(0.9534220798826776, 92, 14)"
      ]
     },
     "execution_count": 83,
     "metadata": {},
     "output_type": "execute_result"
    }
   ],
   "source": [
    "scores = []\n",
    "cnt = 0\n",
    "for msg_id in MSG_IDS:\n",
    "    y_true, y_pred = [], []\n",
    "    tmp_true = train[train[\"msg_id\"].values == msg_id].fillna(-1).values[:, 1:]\n",
    "    tmp_pred = pred[pred[\"msg_id\"].values == msg_id].fillna(-1).values[:, 1:]\n",
    "    if tmp_true.shape[0] == tmp_pred.shape[0]:\n",
    "        y_true.extend(tmp_true.ravel().tolist())\n",
    "        y_pred.extend(tmp_pred.ravel().tolist())\n",
    "        score = calc_acc(y_true, y_pred)\n",
    "        scores.append(score)\n",
    "    else:\n",
    "        t_size, p_size = tmp_true.shape[0], tmp_pred.shape[0]\n",
    "        if (t_size == 1) and (p_size > 0):\n",
    "            scores.append(\n",
    "                calc_acc(tmp_true.ravel().tolist(), tmp_pred[:1].ravel().tolist())\n",
    "            )\n",
    "            continue\n",
    "        cnt += 1\n",
    "\n",
    "        print(msg_id, t_size, p_size)\n",
    "\n",
    "sum(scores) / len(scores), len(scores), cnt"
   ]
  },
  {
   "cell_type": "markdown",
   "id": "4e1ab267-050a-4831-99db-776a8bfcf5e7",
   "metadata": {},
   "source": [
    "Точность алгоритма - **95.34%**\n",
    "\n",
    "Матрица, которая выводится перед точность - это информация, которая нужна была для оценки работы алгоритма определния точности"
   ]
  }
 ],
 "metadata": {
  "kernelspec": {
   "display_name": "myenv",
   "language": "python",
   "name": "myenv"
  },
  "language_info": {
   "codemirror_mode": {
    "name": "ipython",
    "version": 3
   },
   "file_extension": ".py",
   "mimetype": "text/x-python",
   "name": "python",
   "nbconvert_exporter": "python",
   "pygments_lexer": "ipython3",
   "version": "3.10.16"
  },
  "widgets": {
   "application/vnd.jupyter.widget-state+json": {
    "state": {},
    "version_major": 2,
    "version_minor": 0
   }
  }
 },
 "nbformat": 4,
 "nbformat_minor": 5
}
