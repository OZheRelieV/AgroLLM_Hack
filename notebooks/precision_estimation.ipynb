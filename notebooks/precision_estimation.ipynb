{
 "cells": [
  {
   "cell_type": "code",
   "execution_count": 134,
   "id": "b9eb5ec2-5793-499e-8998-8c837034fd26",
   "metadata": {},
   "outputs": [],
   "source": [
    "import pandas as pd\n",
    "import numpy as np\n",
    "from sklearn import metrics\n",
    "from tqdm import tqdm\n",
    "from IPython.display import display\n",
    "from datetime import datetime\n",
    "import gc\n",
    "\n",
    "gc.enable()\n",
    "pd.set_option(\"future.no_silent_downcasting\", True)"
   ]
  },
  {
   "cell_type": "markdown",
   "id": "ce68ada6-a5b9-44cf-9e3c-bcb2c1f0535f",
   "metadata": {},
   "source": [
    "# Useful Constants"
   ]
  },
  {
   "cell_type": "code",
   "execution_count": 135,
   "id": "06e9336d-905a-44d1-8f42-28344b72f3cc",
   "metadata": {},
   "outputs": [],
   "source": [
    "FILE_PREDICTIONS = \"data/structured_messages-6.xlsx\"\n",
    "FILES_GROUND_TRUTH = (\"data/train_data.xlsx\", \"data/train_data2.xlsx\", \"data/70-109.xlsx\")\n",
    "OUTPUT_FILE = \"labeled_data.pkl\"\n",
    "\n",
    "CURRENT_YEAR = current_year = datetime.now().year\n",
    "DATE_FORMATS = [\n",
    "    \"%d.%m\", \"%d/%m\", \"%d.%m.%Y\", \"%d/%m/%Y\", \"%d.%m.%y\", \"%d/%m/%y\",\n",
    "    \"%Y-%m-%d\"\n",
    "]\n",
    "\n",
    "COLUMNS = [\n",
    "    \"msg_id\", \"Дата\", \"Подразделение\", \"Операция\", \"Культура\",\n",
    "    \"За день, га\", \"С начала операции, га\", \"Вал за день, ц\",\n",
    "    \"Вал с начала, ц\"\n",
    "]\n",
    "TEXT_COLS = [\"Дата\", \"Подразделение\", \"Операция\", \"Культура\"]\n",
    "NUM_COLS = [\"За день, га\", \"С начала операции, га\", \"Вал за день, ц\", \"Вал с начала, ц\"]"
   ]
  },
  {
   "cell_type": "markdown",
   "id": "31546d8f-6c73-40e8-8281-c4b6c6da6a43",
   "metadata": {},
   "source": [
    "# Functions"
   ]
  },
  {
   "cell_type": "code",
   "execution_count": 136,
   "id": "f1f6c0a9-a097-4788-92ac-fa60d07c9bcf",
   "metadata": {},
   "outputs": [],
   "source": [
    "def load_data(path):\n",
    "    df = pd.read_excel(path, dtype={\"Дата\": str})\n",
    "    if \"text\" in df.columns:\n",
    "        df.drop(\"text\", axis=1, inplace=True)\n",
    "    if \"message\" in df.columns:\n",
    "        df.drop(\"message\", axis=1, inplace=True)\n",
    "    df.columns = COLUMNS\n",
    "    return df"
   ]
  },
  {
   "cell_type": "code",
   "execution_count": 137,
   "id": "7014d018-e23f-4c41-aee1-bc3672d7ae57",
   "metadata": {},
   "outputs": [],
   "source": [
    "def parse_datе(date):\n",
    "    date = date.split(' ')[0]\n",
    "    date = date.strip().rstrip('.')\n",
    "    for i, fmt in enumerate(DATE_FORMATS):\n",
    "        try:\n",
    "            dt = datetime.strptime(date, fmt)\n",
    "            if i < 2:\n",
    "                dt = dt.replace(year=CURRENT_YEAR)\n",
    "            dt = dt.strftime(\"%d.%m.%Y\")\n",
    "            return dt\n",
    "        except Exception as e:\n",
    "            pass"
   ]
  },
  {
   "cell_type": "code",
   "execution_count": 32,
   "id": "acbc9e6d-8f05-4835-a24f-2e3382979552",
   "metadata": {},
   "outputs": [],
   "source": [
    "def calc_acc(y_true, y_pred):\n",
    "    assert len(y_true) == len(y_pred), f\"true={len(y_true)}, pred={len(y_pred)}\"\n",
    "\n",
    "    acc = 0.0\n",
    "    for val in zip(y_true, y_pred):\n",
    "        true_value, pred_value = val[0], val[1]\n",
    "        if true_value == pred_value:\n",
    "            acc += 1\n",
    "        else:\n",
    "            if isinstance(true_value, str) and isinstance(pred_value, str):\n",
    "                if true_value.startswith(pred_value):\n",
    "                    acc += 1\n",
    "    return acc / len(y_true)"
   ]
  },
  {
   "cell_type": "markdown",
   "id": "f68322fc-967e-4658-b8e4-e2f33fa195ff",
   "metadata": {},
   "source": [
    "# Preparing single file with labeled data"
   ]
  },
  {
   "cell_type": "code",
   "execution_count": 138,
   "id": "4dc1d3e6-f50f-4a17-9f3b-5ee25db79319",
   "metadata": {},
   "outputs": [],
   "source": [
    "# dfs = list(map(load_data, FILES_GROUND_TRUTH))\n",
    "# dfs[-1][\"msg_id\"] += 69\n",
    "# pd.concat(dfs, axis=0).to_parquet(OUTPUT_FILE, index=False)"
   ]
  },
  {
   "cell_type": "markdown",
   "id": "9eefd1bd-81eb-4f24-b451-33fe1db4a4da",
   "metadata": {},
   "source": [
    "<font color=\"red\" size=14>DONE</font>"
   ]
  },
  {
   "cell_type": "markdown",
   "id": "13efdb3d-65ca-4446-8866-dee831f26109",
   "metadata": {},
   "source": [
    "---"
   ]
  },
  {
   "cell_type": "markdown",
   "id": "9a39985f-a7ed-421a-804f-7c907aecd6ea",
   "metadata": {},
   "source": [
    "# Loading and preparing data for accuracy estimation"
   ]
  },
  {
   "cell_type": "code",
   "execution_count": 308,
   "id": "1ab6ba10-d4c8-49fa-a3f3-96bd0091fadc",
   "metadata": {},
   "outputs": [],
   "source": [
    "DROP_OP = [\n",
    "    \"боронование довсходовое\",\n",
    "    \"выкашивание отцовских форм подсолнечник\",\n",
    "    \"тестовая операция\",\n",
    "    \"средства защиты растений\",\n",
    "    \"затравка мышевидных грызунов\"\n",
    "]\n",
    "\n",
    "MAP = {\n",
    "    \"внесение противозлакового гербицида\": \"гербицидная обработка\",\n",
    "    \"посев\": \"сев\",\n",
    "    \"вспашка\": \"пахота\",\n",
    "    \"сплошная культивация\": \"культивация\",\n",
    "    \"выравнивание\": \"выравнивание зяби\",\n",
    "    \"химическая прополка\": \"гербицидная обработка\"\n",
    "}"
   ]
  },
  {
   "cell_type": "code",
   "execution_count": 309,
   "id": "c1e04d34-c65c-4e01-b8e2-06c104c733f1",
   "metadata": {},
   "outputs": [],
   "source": [
    "# train = pd.read_parquet(OUTPUT_FILE)\n",
    "train = pd.read_excel(\"1.xlsx\")\n",
    "# train[\"msg_id\"] -= 1\n",
    "pred = pd.read_excel(FILE_PREDICTIONS)\n",
    "\n",
    "assert train.shape[1] == pred.shape[1]\n",
    "\n",
    "pred.columns = COLUMNS"
   ]
  },
  {
   "cell_type": "code",
   "execution_count": 310,
   "id": "1972084f-0152-4b55-8911-0a2f07864186",
   "metadata": {},
   "outputs": [
    {
     "data": {
      "text/plain": [
       "(105, 105)"
      ]
     },
     "execution_count": 310,
     "metadata": {},
     "output_type": "execute_result"
    }
   ],
   "source": [
    "train.msg_id.max(), pred.msg_id.max()"
   ]
  },
  {
   "cell_type": "code",
   "execution_count": 311,
   "id": "90aba6f9-a614-4e8a-90c8-926d3e721204",
   "metadata": {},
   "outputs": [
    {
     "data": {
      "text/plain": [
       "((355, 9), (386, 9))"
      ]
     },
     "execution_count": 311,
     "metadata": {},
     "output_type": "execute_result"
    }
   ],
   "source": [
    "train.shape, pred.shape"
   ]
  },
  {
   "cell_type": "code",
   "execution_count": 312,
   "id": "8906abc2-4066-450e-be43-cdf2e95ee2c9",
   "metadata": {},
   "outputs": [],
   "source": [
    "MSG_IDS = pred[\"msg_id\"].unique()"
   ]
  },
  {
   "cell_type": "code",
   "execution_count": 313,
   "id": "601b0200-8205-47f8-a4d4-032bf63dde15",
   "metadata": {},
   "outputs": [],
   "source": [
    "for txt_col in TEXT_COLS:\n",
    "    train[txt_col] = train[txt_col].str.lower()\n",
    "    train[txt_col] = train[txt_col].str.replace('ё', 'е')\n",
    "    \n",
    "    pred[txt_col] = pred[txt_col].str.lower()\n",
    "    pred[txt_col] = pred[txt_col].str.replace('ё', 'е')"
   ]
  },
  {
   "cell_type": "code",
   "execution_count": 314,
   "id": "55fb3fba-96c2-42a1-ba0e-f0bc88d2188c",
   "metadata": {},
   "outputs": [],
   "source": [
    "for num_col in NUM_COLS:\n",
    "    dtype = train[num_col].dtype.name\n",
    "    if (\"int\" in dtype) or (\"float\" in dtype):\n",
    "        continue"
   ]
  },
  {
   "cell_type": "code",
   "execution_count": 315,
   "id": "b7504aa5-0673-4155-803f-ecdcba385084",
   "metadata": {},
   "outputs": [],
   "source": [
    "for num_col in NUM_COLS:\n",
    "    dtype = pred[num_col].dtype.name\n",
    "    if (\"int\" in dtype) or (\"float\" in dtype):\n",
    "        continue\n",
    "    pred[num_col] = pd.to_numeric(pred[num_col], errors=\"coerce\")"
   ]
  },
  {
   "cell_type": "code",
   "execution_count": 316,
   "id": "0542cf05-c7d4-4cab-949c-ce48b9eae2b7",
   "metadata": {},
   "outputs": [],
   "source": [
    "for i, val in enumerate(train[\"Дата\"]):\n",
    "    if not pd.isna(val):\n",
    "        train.loc[i, \"Дата\"] = parse_datе(str(val))"
   ]
  },
  {
   "cell_type": "code",
   "execution_count": 317,
   "id": "f432e8cf-5de4-4ae1-9945-2b3dbd72b312",
   "metadata": {},
   "outputs": [],
   "source": [
    "for i, val in enumerate(pred[\"Дата\"]):\n",
    "    if not pd.isna(val):\n",
    "        pred.loc[i, \"Дата\"] = parse_datе(str(val))"
   ]
  },
  {
   "cell_type": "code",
   "execution_count": 318,
   "id": "290d9c39-08d1-452f-8c14-d020c0786561",
   "metadata": {},
   "outputs": [],
   "source": [
    "pred.drop(pred[pred[\"Операция\"].isin(DROP_OP)].index, axis=0, inplace=True)\n",
    "pred.reset_index(drop=True, inplace=True)"
   ]
  },
  {
   "cell_type": "code",
   "execution_count": 319,
   "id": "9460c6f5-cdc9-4178-92a5-8b589b612100",
   "metadata": {},
   "outputs": [],
   "source": [
    "pred[\"Операция\"] = pred[\"Операция\"].apply(lambda x: MAP.get(x, x))"
   ]
  },
  {
   "cell_type": "code",
   "execution_count": 320,
   "id": "8b645651-35d2-49fa-8810-cb2e8560bf07",
   "metadata": {},
   "outputs": [],
   "source": [
    "pred[\"Подразделение\"] = pred[\"Подразделение\"].apply(lambda x: \"аор\" if x.startswith(\"отд\") else x)"
   ]
  },
  {
   "cell_type": "code",
   "execution_count": 321,
   "id": "f1f5a5e6-3338-43a8-b60a-4491391810c9",
   "metadata": {},
   "outputs": [],
   "source": [
    "pred[\"Культура\"] = pred[\"Культура\"].apply(lambda x: \"озимые культуры\" if x == \"озимые\" else x)"
   ]
  },
  {
   "cell_type": "code",
   "execution_count": 322,
   "id": "57665f91-4aa9-4559-a2c3-eebbe6ad3aae",
   "metadata": {},
   "outputs": [
    {
     "data": {
      "text/plain": [
       "0"
      ]
     },
     "execution_count": 322,
     "metadata": {},
     "output_type": "execute_result"
    }
   ],
   "source": [
    "pred[\"Операция\"].isna().sum()"
   ]
  },
  {
   "cell_type": "code",
   "execution_count": 323,
   "id": "99283e20-12ec-4309-b737-c47564ee8ff4",
   "metadata": {},
   "outputs": [
    {
     "data": {
      "text/plain": [
       "8"
      ]
     },
     "execution_count": 323,
     "metadata": {},
     "output_type": "execute_result"
    }
   ],
   "source": [
    "pred[\"Культура\"].isna().sum()"
   ]
  },
  {
   "cell_type": "code",
   "execution_count": 324,
   "id": "61cdd827-5ec2-432f-8275-3708544c2b9e",
   "metadata": {},
   "outputs": [
    {
     "data": {
      "text/html": [
       "<div>\n",
       "<style scoped>\n",
       "    .dataframe tbody tr th:only-of-type {\n",
       "        vertical-align: middle;\n",
       "    }\n",
       "\n",
       "    .dataframe tbody tr th {\n",
       "        vertical-align: top;\n",
       "    }\n",
       "\n",
       "    .dataframe thead th {\n",
       "        text-align: right;\n",
       "    }\n",
       "</style>\n",
       "<table border=\"1\" class=\"dataframe\">\n",
       "  <thead>\n",
       "    <tr style=\"text-align: right;\">\n",
       "      <th></th>\n",
       "      <th>msg_id</th>\n",
       "      <th>Дата</th>\n",
       "      <th>Подразделение</th>\n",
       "      <th>Операция</th>\n",
       "      <th>Культура</th>\n",
       "      <th>За день, га</th>\n",
       "      <th>С начала операции, га</th>\n",
       "      <th>Вал за день, ц</th>\n",
       "      <th>Вал с начала, ц</th>\n",
       "    </tr>\n",
       "  </thead>\n",
       "  <tbody>\n",
       "    <tr>\n",
       "      <th>143</th>\n",
       "      <td>41</td>\n",
       "      <td>NaN</td>\n",
       "      <td>аор</td>\n",
       "      <td>внесение минеральных удобрений</td>\n",
       "      <td>NaN</td>\n",
       "      <td>80.0</td>\n",
       "      <td>314.0</td>\n",
       "      <td>NaN</td>\n",
       "      <td>NaN</td>\n",
       "    </tr>\n",
       "    <tr>\n",
       "      <th>164</th>\n",
       "      <td>45</td>\n",
       "      <td>NaN</td>\n",
       "      <td>аор</td>\n",
       "      <td>выравнивание зяби</td>\n",
       "      <td>NaN</td>\n",
       "      <td>56.0</td>\n",
       "      <td>56.0</td>\n",
       "      <td>NaN</td>\n",
       "      <td>NaN</td>\n",
       "    </tr>\n",
       "    <tr>\n",
       "      <th>214</th>\n",
       "      <td>60</td>\n",
       "      <td>NaN</td>\n",
       "      <td>восход</td>\n",
       "      <td>предпосевная культивация</td>\n",
       "      <td>NaN</td>\n",
       "      <td>177.0</td>\n",
       "      <td>396.0</td>\n",
       "      <td>NaN</td>\n",
       "      <td>NaN</td>\n",
       "    </tr>\n",
       "    <tr>\n",
       "      <th>260</th>\n",
       "      <td>75</td>\n",
       "      <td>NaN</td>\n",
       "      <td>аор</td>\n",
       "      <td>подкормка</td>\n",
       "      <td>NaN</td>\n",
       "      <td>241.0</td>\n",
       "      <td>241.0</td>\n",
       "      <td>NaN</td>\n",
       "      <td>NaN</td>\n",
       "    </tr>\n",
       "    <tr>\n",
       "      <th>261</th>\n",
       "      <td>75</td>\n",
       "      <td>NaN</td>\n",
       "      <td>аор</td>\n",
       "      <td>подкормка</td>\n",
       "      <td>NaN</td>\n",
       "      <td>159.0</td>\n",
       "      <td>321.0</td>\n",
       "      <td>NaN</td>\n",
       "      <td>NaN</td>\n",
       "    </tr>\n",
       "    <tr>\n",
       "      <th>303</th>\n",
       "      <td>87</td>\n",
       "      <td>NaN</td>\n",
       "      <td>восход</td>\n",
       "      <td>предпосевная культивация</td>\n",
       "      <td>NaN</td>\n",
       "      <td>180.0</td>\n",
       "      <td>1430.0</td>\n",
       "      <td>NaN</td>\n",
       "      <td>NaN</td>\n",
       "    </tr>\n",
       "    <tr>\n",
       "      <th>305</th>\n",
       "      <td>88</td>\n",
       "      <td>NaN</td>\n",
       "      <td>восход</td>\n",
       "      <td>подкормка</td>\n",
       "      <td>NaN</td>\n",
       "      <td>218.0</td>\n",
       "      <td>NaN</td>\n",
       "      <td>NaN</td>\n",
       "      <td>NaN</td>\n",
       "    </tr>\n",
       "    <tr>\n",
       "      <th>306</th>\n",
       "      <td>88</td>\n",
       "      <td>NaN</td>\n",
       "      <td>восход</td>\n",
       "      <td>культивация</td>\n",
       "      <td>NaN</td>\n",
       "      <td>196.0</td>\n",
       "      <td>1626.0</td>\n",
       "      <td>NaN</td>\n",
       "      <td>NaN</td>\n",
       "    </tr>\n",
       "  </tbody>\n",
       "</table>\n",
       "</div>"
      ],
      "text/plain": [
       "     msg_id Дата Подразделение                        Операция Культура  \\\n",
       "143      41  NaN           аор  внесение минеральных удобрений      NaN   \n",
       "164      45  NaN           аор               выравнивание зяби      NaN   \n",
       "214      60  NaN        восход        предпосевная культивация      NaN   \n",
       "260      75  NaN           аор                       подкормка      NaN   \n",
       "261      75  NaN           аор                       подкормка      NaN   \n",
       "303      87  NaN        восход        предпосевная культивация      NaN   \n",
       "305      88  NaN        восход                       подкормка      NaN   \n",
       "306      88  NaN        восход                     культивация      NaN   \n",
       "\n",
       "     За день, га  С начала операции, га  Вал за день, ц  Вал с начала, ц  \n",
       "143         80.0                  314.0             NaN              NaN  \n",
       "164         56.0                   56.0             NaN              NaN  \n",
       "214        177.0                  396.0             NaN              NaN  \n",
       "260        241.0                  241.0             NaN              NaN  \n",
       "261        159.0                  321.0             NaN              NaN  \n",
       "303        180.0                 1430.0             NaN              NaN  \n",
       "305        218.0                    NaN             NaN              NaN  \n",
       "306        196.0                 1626.0             NaN              NaN  "
      ]
     },
     "execution_count": 324,
     "metadata": {},
     "output_type": "execute_result"
    }
   ],
   "source": [
    "pred[pred[\"Культура\"].isna()]"
   ]
  },
  {
   "cell_type": "code",
   "execution_count": 325,
   "id": "abd91b32-122f-4bf9-8b64-a23f3ec7d01f",
   "metadata": {},
   "outputs": [],
   "source": [
    "pred.drop(pred[pred[\"Культура\"].isna()].index, axis=0, inplace=True)"
   ]
  },
  {
   "cell_type": "code",
   "execution_count": 326,
   "id": "ee9638b7-c473-41e9-b890-12d5ff454766",
   "metadata": {},
   "outputs": [
    {
     "data": {
      "text/plain": [
       "((355, 9), (361, 9))"
      ]
     },
     "execution_count": 326,
     "metadata": {},
     "output_type": "execute_result"
    }
   ],
   "source": [
    "train.shape, pred.shape"
   ]
  },
  {
   "cell_type": "code",
   "execution_count": 327,
   "id": "47c50391-9821-4845-855e-35bb8dbfeece",
   "metadata": {},
   "outputs": [],
   "source": [
    "train = train.fillna(-1)\n",
    "pred = pred.fillna(-1)"
   ]
  },
  {
   "cell_type": "code",
   "execution_count": 328,
   "id": "572037be-9c2a-4035-9a57-d90436356457",
   "metadata": {},
   "outputs": [
    {
     "data": {
      "text/plain": [
       "(0, 0)"
      ]
     },
     "execution_count": 328,
     "metadata": {},
     "output_type": "execute_result"
    }
   ],
   "source": [
    "train.isna().sum().sum(), pred.isna().sum().sum()"
   ]
  },
  {
   "cell_type": "code",
   "execution_count": 329,
   "id": "ed614d7b-7848-4400-821d-b64a065d5f4d",
   "metadata": {},
   "outputs": [
    {
     "data": {
      "text/plain": [
       "{'выравнивание многолетних трав', 'культ.'}"
      ]
     },
     "execution_count": 329,
     "metadata": {},
     "output_type": "execute_result"
    }
   ],
   "source": [
    "set(pred[\"Операция\"].dropna().str.lower().unique()).difference(\n",
    "    set(train[\"Операция\"].unique())\n",
    ")"
   ]
  },
  {
   "cell_type": "markdown",
   "id": "1aa9e0d8-0754-4aa0-9bcd-bc67c757b490",
   "metadata": {},
   "source": [
    "# Scoring"
   ]
  },
  {
   "cell_type": "code",
   "execution_count": 334,
   "id": "b363409e-4706-448d-8299-06762c310334",
   "metadata": {},
   "outputs": [
    {
     "name": "stdout",
     "output_type": "stream",
     "text": [
      "29 6 5\n",
      "32 7 8\n",
      "45 4 5\n",
      "57 6 5\n",
      "60 3 2\n",
      "72 4 2\n",
      "76 3 5\n",
      "81 8 7\n",
      "82 8 7\n",
      "83 5 4\n",
      "88 2 1\n",
      "99 5 3\n"
     ]
    },
    {
     "data": {
      "text/plain": [
       "(0.9522108081583887, 93, 12)"
      ]
     },
     "execution_count": 334,
     "metadata": {},
     "output_type": "execute_result"
    }
   ],
   "source": [
    "scores = []\n",
    "cnt = 0\n",
    "for msg_id in MSG_IDS:\n",
    "    y_true, y_pred = [], []\n",
    "    tmp_true = train[train[\"msg_id\"].values == msg_id].fillna(-1).values[:, 1:]\n",
    "    tmp_pred = pred[pred[\"msg_id\"].values == msg_id].fillna(-1).values[:, 1:]\n",
    "    if tmp_true.shape[0] == tmp_pred.shape[0]:\n",
    "        y_true.extend(tmp_true.ravel().tolist())\n",
    "        y_pred.extend(tmp_pred.ravel().tolist())\n",
    "        score = calc_acc(y_true, y_pred)\n",
    "        scores.append(score)\n",
    "    else:\n",
    "        t_size, p_size = tmp_true.shape[0], tmp_pred.shape[0]\n",
    "        if t_size == 1:\n",
    "            scores.append(\n",
    "                calc_acc(tmp_true.ravel().tolist(), tmp_pred[:1].ravel().tolist())\n",
    "            )\n",
    "            continue\n",
    "        cnt += 1\n",
    "\n",
    "        print(msg_id, t_size, p_size)\n",
    "\n",
    "sum(scores) / len(scores), len(scores), cnt"
   ]
  }
 ],
 "metadata": {
  "kernelspec": {
   "display_name": "myenv",
   "language": "python",
   "name": "myenv"
  },
  "language_info": {
   "codemirror_mode": {
    "name": "ipython",
    "version": 3
   },
   "file_extension": ".py",
   "mimetype": "text/x-python",
   "name": "python",
   "nbconvert_exporter": "python",
   "pygments_lexer": "ipython3",
   "version": "3.10.16"
  }
 },
 "nbformat": 4,
 "nbformat_minor": 5
}
